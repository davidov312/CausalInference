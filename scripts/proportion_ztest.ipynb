{
 "cells": [
  {
   "cell_type": "markdown",
   "metadata": {},
   "source": [
    "### (Classical) Causal Inference: calculate difference in means estimate of the treatment effect\n",
    "- Assume you are given a strata - stratified group of patients where all confounders are matched \n",
    "- The example includes patients who recived vaccine and the control group received placebo\n",
    "- Goal is to calculate difference in means and the corresponding p-value"
   ]
  },
  {
   "cell_type": "code",
   "execution_count": 16,
   "metadata": {},
   "outputs": [
    {
     "name": "stdout",
     "output_type": "stream",
     "text": [
      "Difference in means is: 0.320\n",
      "P-value: 9.53850996117704e-09\n"
     ]
    },
    {
     "ename": "",
     "evalue": "",
     "output_type": "error",
     "traceback": [
      "\u001b[1;31mThe Kernel crashed while executing code in the the current cell or a previous cell. Please review the code in the cell(s) to identify a possible cause of the failure. Click <a href='https://aka.ms/vscodeJupyterKernelCrash'>here</a> for more info. View Jupyter <a href='command:jupyter.viewOutput'>log</a> for further details."
     ]
    }
   ],
   "source": [
    "import numpy as np\n",
    "from statsmodels.stats.proportion import proportions_ztest\n",
    "\n",
    "# Subgroups of patienets\n",
    "treated_good_outcome = 92  # treated group with good outcome\n",
    "treated_bad_outcome = 8\n",
    "control_good_outcome = 120  # control group with good outcome\n",
    "control_bad_outcome = 80  # control group with good outcome\n",
    "\n",
    "\n",
    "# Perform the z-test for two proportions\n",
    "_, p_value = proportions_ztest([treated_good_outcome, \n",
    "                                     control_good_outcome], \n",
    "                                     [treated_good_outcome + treated_bad_outcome, \n",
    "                                      control_good_outcome + control_bad_outcome])\n",
    "\n",
    "\n",
    "difference_in_means = treated_good_outcome / (treated_good_outcome + treated_bad_outcome) - \\\n",
    "                      control_good_outcome / (control_good_outcome + control_bad_outcome)\n",
    "\n",
    "print('Difference in means is:', f'{difference_in_means:.3f}')\n",
    "print(f\"P-value: {p_value}\")"
   ]
  },
  {
   "cell_type": "markdown",
   "metadata": {},
   "source": [
    "p-value smaller than (usually) 0.05 in proportions z-test means that there is a statistically significant difference between the two proportions.\n",
    "In this case of binary outcome, the difference in proportions is exactly the difference in means"
   ]
  }
 ],
 "metadata": {
  "kernelspec": {
   "display_name": "causal_inference2",
   "language": "python",
   "name": "python3"
  },
  "language_info": {
   "codemirror_mode": {
    "name": "ipython",
    "version": 3
   },
   "file_extension": ".py",
   "mimetype": "text/x-python",
   "name": "python",
   "nbconvert_exporter": "python",
   "pygments_lexer": "ipython3",
   "version": "3.10.13"
  }
 },
 "nbformat": 4,
 "nbformat_minor": 2
}
