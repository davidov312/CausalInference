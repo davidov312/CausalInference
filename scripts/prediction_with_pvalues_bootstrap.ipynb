{
 "cells": [
  {
   "cell_type": "markdown",
   "metadata": {},
   "source": [
    "# ML (Gradient Boosting) Predictions With p-values Using Bootstraping"
   ]
  },
  {
   "cell_type": "markdown",
   "metadata": {},
   "source": [
    "Imports"
   ]
  },
  {
   "cell_type": "code",
   "execution_count": 101,
   "metadata": {},
   "outputs": [],
   "source": [
    "import numpy as np\n",
    "import xgboost as xgb\n",
    "from sklearn.utils import resample\n",
    "from sklearn.datasets import load_breast_cancer\n",
    "from sklearn.metrics import accuracy_score\n",
    "from scipy.stats import ttest_rel\n",
    "from sklearn.model_selection import train_test_split\n"
   ]
  },
  {
   "cell_type": "markdown",
   "metadata": {},
   "source": [
    "Dataset"
   ]
  },
  {
   "cell_type": "code",
   "execution_count": 118,
   "metadata": {},
   "outputs": [],
   "source": [
    "# Load a sample dataset (Breast Cancer dataset from scikit-learn)\n",
    "data = load_breast_cancer()\n",
    "X, y = data.data, data.target\n",
    "X_train, X_test, y_train, y_test = train_test_split(X, y, test_size=0.9, random_state=42)"
   ]
  },
  {
   "cell_type": "code",
   "execution_count": 119,
   "metadata": {},
   "outputs": [],
   "source": [
    "# Number of bootstrap samples\n",
    "n_bootstrap_samples = 100\n",
    "\n",
    "# Store the predictions from each bootstrap sample\n",
    "bootstrap_predictions = []\n",
    "\n",
    "for _ in range(n_bootstrap_samples):\n",
    "    # Create a bootstrap sample, with replacements (same sample can appear multiple times)\n",
    "    bootstrap_X, bootstrap_y = resample(X_train, y_train, replace=True)\n",
    "\n",
    "    # Create and train an XGBoost classifier\n",
    "    model = xgb.XGBClassifier()\n",
    "    model.fit(bootstrap_X, bootstrap_y)\n",
    "    \n",
    "    # Make predictions on the original data\n",
    "    y_pred = model.predict_proba(X_test)\n",
    "    y_pred = y_pred[:, 1]\n",
    "    bootstrap_predictions.append(y_pred)\n",
    "bootstrap_predictions = np.asarray(bootstrap_predictions)"
   ]
  },
  {
   "cell_type": "code",
   "execution_count": 120,
   "metadata": {},
   "outputs": [
    {
     "name": "stdout",
     "output_type": "stream",
     "text": [
      "0.9673575129533679\n",
      "0.9481865284974094\n",
      "0.9639572538860104\n",
      "0.9767487046632124\n",
      "0.9641677461139896\n",
      "0.9514329663212435\n",
      "0.9703853626943004\n",
      "0.9672603626943005\n",
      "0.9788374352331607\n",
      "0.8987613341968912\n",
      "0.9783516839378238\n",
      "0.9741013601036269\n",
      "0.9728465025906735\n",
      "0.9660702720207255\n",
      "0.8977331606217617\n",
      "0.9676408678756476\n",
      "0.8864637305699481\n",
      "0.9379695595854922\n",
      "0.8664022020725388\n",
      "0.9777606865284975\n",
      "0.9666531735751295\n",
      "0.9648639896373057\n",
      "0.9767163212435234\n",
      "0.9655926165803108\n",
      "0.9641110751295336\n",
      "0.8664022020725388\n",
      "0.9473040803108808\n",
      "0.8987613341968912\n",
      "0.9645725388601036\n",
      "0.9791207901554404\n",
      "0.9821567357512954\n",
      "0.964872085492228\n",
      "0.9775825777202073\n",
      "0.9733403497409326\n",
      "0.8742956606217616\n",
      "0.9734132124352332\n",
      "0.9635038860103626\n",
      "0.9735589378238343\n",
      "0.9730650906735752\n",
      "0.9643296632124352\n",
      "0.8977331606217617\n",
      "0.9483646373056994\n",
      "0.966839378238342\n",
      "0.9733889248704662\n",
      "0.9725631476683939\n",
      "0.9612856217616581\n",
      "0.9609536917098445\n",
      "0.9380829015544042\n",
      "0.9713406735751295\n",
      "0.9733079663212436\n",
      "0.9815495466321243\n",
      "0.9726360103626943\n",
      "0.8977331606217617\n",
      "0.9714378238341969\n",
      "0.9710168393782384\n",
      "0.9673818005181347\n",
      "0.9669041450777202\n",
      "0.9810556994818652\n",
      "0.9665074481865285\n",
      "0.9617956606217617\n",
      "0.9790398316062177\n",
      "0.9105408031088082\n",
      "0.8434909326424871\n",
      "0.9776149611398963\n",
      "0.969502914507772\n",
      "0.8987613341968912\n",
      "0.968984779792746\n",
      "0.9721178756476684\n",
      "0.9654711787564766\n",
      "0.8675922927461139\n",
      "0.9673818005181346\n",
      "0.9710411269430052\n",
      "0.8977331606217617\n",
      "0.9665317357512954\n",
      "0.9618442357512953\n",
      "0.9801732512953367\n",
      "0.9720126295336787\n",
      "0.9768053756476685\n",
      "0.9753643134715027\n",
      "0.9558694948186528\n",
      "0.9644753886010363\n",
      "0.9695191062176166\n",
      "0.8977331606217617\n",
      "0.9157869170984456\n",
      "0.9697538860103627\n",
      "0.9639410621761658\n",
      "0.9599740932642487\n",
      "0.9722150259067357\n",
      "0.9440657383419688\n",
      "0.9564604922279794\n",
      "0.9630343264248704\n",
      "0.8987613341968912\n",
      "0.8977331606217617\n",
      "0.9753481217616581\n",
      "0.975752914507772\n",
      "0.9824319948186528\n",
      "0.8987613341968912\n",
      "0.9619009067357512\n",
      "0.9749838082901554\n",
      "0.9648316062176165\n"
     ]
    }
   ],
   "source": [
    "from sklearn.metrics import roc_auc_score\n",
    "for i in range(100):\n",
    "    print(roc_auc_score(y_test, bootstrap_predictions[i]))"
   ]
  },
  {
   "cell_type": "code",
   "execution_count": 121,
   "metadata": {},
   "outputs": [],
   "source": [
    "from scipy.stats import ttest_1samp\n",
    "import matplotlib.pyplot as plt\n",
    "t_stat, p_value_two_tailed = ttest_1samp(bootstrap_predictions, 0.5)\n",
    "\n",
    "# Since we're interested in a one-tailed test (greater than 0.5), we'll divide the p-value by 2\n",
    "p_value_one_tailed = p_value_two_tailed / 2\n"
   ]
  },
  {
   "cell_type": "code",
   "execution_count": 125,
   "metadata": {},
   "outputs": [
    {
     "data": {
      "text/plain": [
       "(513,)"
      ]
     },
     "execution_count": 125,
     "metadata": {},
     "output_type": "execute_result"
    }
   ],
   "source": [
    "y_test.shape"
   ]
  },
  {
   "cell_type": "code",
   "execution_count": 2,
   "metadata": {},
   "outputs": [
    {
     "data": {
      "text/html": [
       "<div>\n",
       "<style scoped>\n",
       "    .dataframe tbody tr th:only-of-type {\n",
       "        vertical-align: middle;\n",
       "    }\n",
       "\n",
       "    .dataframe tbody tr th {\n",
       "        vertical-align: top;\n",
       "    }\n",
       "\n",
       "    .dataframe thead th {\n",
       "        text-align: right;\n",
       "    }\n",
       "</style>\n",
       "<table border=\"1\" class=\"dataframe\">\n",
       "  <thead>\n",
       "    <tr style=\"text-align: right;\">\n",
       "      <th></th>\n",
       "      <th>Group</th>\n",
       "      <th>Value</th>\n",
       "    </tr>\n",
       "  </thead>\n",
       "  <tbody>\n",
       "    <tr>\n",
       "      <th>0</th>\n",
       "      <td>A</td>\n",
       "      <td>10</td>\n",
       "    </tr>\n",
       "    <tr>\n",
       "      <th>1</th>\n",
       "      <td>A</td>\n",
       "      <td>15</td>\n",
       "    </tr>\n",
       "    <tr>\n",
       "      <th>2</th>\n",
       "      <td>B</td>\n",
       "      <td>20</td>\n",
       "    </tr>\n",
       "    <tr>\n",
       "      <th>3</th>\n",
       "      <td>B</td>\n",
       "      <td>25</td>\n",
       "    </tr>\n",
       "    <tr>\n",
       "      <th>4</th>\n",
       "      <td>C</td>\n",
       "      <td>30</td>\n",
       "    </tr>\n",
       "    <tr>\n",
       "      <th>5</th>\n",
       "      <td>C</td>\n",
       "      <td>35</td>\n",
       "    </tr>\n",
       "  </tbody>\n",
       "</table>\n",
       "</div>"
      ],
      "text/plain": [
       "  Group  Value\n",
       "0     A     10\n",
       "1     A     15\n",
       "2     B     20\n",
       "3     B     25\n",
       "4     C     30\n",
       "5     C     35"
      ]
     },
     "execution_count": 2,
     "metadata": {},
     "output_type": "execute_result"
    }
   ],
   "source": [
    "import pandas as pd\n",
    "\n",
    "# Sample DataFrame\n",
    "data = {\n",
    "    'Group': ['A', 'A', 'B', 'B', 'C', 'C'],\n",
    "    'Value': [10, 15, 20, 25, 30, 35]\n",
    "}\n",
    "\n",
    "df = pd.DataFrame(data)\n",
    "\n",
    "df"
   ]
  },
  {
   "cell_type": "code",
   "execution_count": 3,
   "metadata": {},
   "outputs": [
    {
     "data": {
      "text/html": [
       "<div>\n",
       "<style scoped>\n",
       "    .dataframe tbody tr th:only-of-type {\n",
       "        vertical-align: middle;\n",
       "    }\n",
       "\n",
       "    .dataframe tbody tr th {\n",
       "        vertical-align: top;\n",
       "    }\n",
       "\n",
       "    .dataframe thead th {\n",
       "        text-align: right;\n",
       "    }\n",
       "</style>\n",
       "<table border=\"1\" class=\"dataframe\">\n",
       "  <thead>\n",
       "    <tr style=\"text-align: right;\">\n",
       "      <th></th>\n",
       "      <th>Group</th>\n",
       "      <th>Total</th>\n",
       "      <th>Average</th>\n",
       "    </tr>\n",
       "  </thead>\n",
       "  <tbody>\n",
       "    <tr>\n",
       "      <th>0</th>\n",
       "      <td>A</td>\n",
       "      <td>25.0</td>\n",
       "      <td>12.5</td>\n",
       "    </tr>\n",
       "    <tr>\n",
       "      <th>1</th>\n",
       "      <td>B</td>\n",
       "      <td>45.0</td>\n",
       "      <td>22.5</td>\n",
       "    </tr>\n",
       "    <tr>\n",
       "      <th>2</th>\n",
       "      <td>C</td>\n",
       "      <td>65.0</td>\n",
       "      <td>32.5</td>\n",
       "    </tr>\n",
       "  </tbody>\n",
       "</table>\n",
       "</div>"
      ],
      "text/plain": [
       "  Group  Total  Average\n",
       "0     A   25.0     12.5\n",
       "1     B   45.0     22.5\n",
       "2     C   65.0     32.5"
      ]
     },
     "execution_count": 3,
     "metadata": {},
     "output_type": "execute_result"
    }
   ],
   "source": [
    "def custom_function(x):\n",
    "    # Compute the sum and mean\n",
    "    total = x['Value'].sum()\n",
    "    average = x['Value'].mean()\n",
    "    \n",
    "    # Return as a Series with new column names\n",
    "    return pd.Series([total, average], index=['Total', 'Average'])\n",
    "df.groupby('Group').apply(custom_function).reset_index()\n"
   ]
  },
  {
   "cell_type": "code",
   "execution_count": null,
   "metadata": {},
   "outputs": [],
   "source": []
  }
 ],
 "metadata": {
  "kernelspec": {
   "display_name": "causal_inference2",
   "language": "python",
   "name": "python3"
  },
  "language_info": {
   "codemirror_mode": {
    "name": "ipython",
    "version": 3
   },
   "file_extension": ".py",
   "mimetype": "text/x-python",
   "name": "python",
   "nbconvert_exporter": "python",
   "pygments_lexer": "ipython3",
   "version": "3.10.13"
  }
 },
 "nbformat": 4,
 "nbformat_minor": 2
}
